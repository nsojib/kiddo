{
 "cells": [
  {
   "cell_type": "code",
   "execution_count": 1,
   "metadata": {},
   "outputs": [],
   "source": [
    "import sys\n",
    "import time\n",
    "import numpy as np\n",
    "from autokiddobot import AutoKiddobot"
   ]
  },
  {
   "cell_type": "markdown",
   "metadata": {},
   "source": [
    "This code works with the vrep model 'kiddobot_dynamixel_real_v2.ttt'\n",
    "<img src='kiddobot_ws.png' width=40%>"
   ]
  },
  {
   "cell_type": "markdown",
   "metadata": {},
   "source": [
    "<b>AutoKiddobot class</b><br>\n",
    "Variables:\n",
    "    * x,y  : last pen coordinate. set by the get_current_xy() function. \n",
    "    * xmax, ymax  : range in x axis and y axis. Fixed value. \n",
    "Functions: \n",
    "    * start: connect with VREP and start simulation. Make sure the model is loaded in VREP beforehand.\n",
    "    * get_current_xy()  : read pen position. returns (x,y)\n",
    "    * go_to_xy(x, y)  : move pen position to (x,y) position.\n",
    "    * pen_down() : as it said.\n",
    "    * pen_up() : as it said.\n",
    "    * close() : close simulation in VREP."
   ]
  },
  {
   "cell_type": "markdown",
   "metadata": {},
   "source": [
    "### Lets start."
   ]
  },
  {
   "cell_type": "code",
   "execution_count": 2,
   "metadata": {},
   "outputs": [
    {
     "name": "stdout",
     "output_type": "stream",
     "text": [
      "Kiddobot sim and kin auto\n",
      "Kiddobot class\n",
      "2D Kin. version= March, 9, 2020\n",
      "Link1= 200 mm  Link2= 180 mm\n",
      "max xy= 300 200\n",
      "vrep simulated robot, version= March, 9, 2020\n",
      "Connected to remote API server\n"
     ]
    }
   ],
   "source": [
    "bot=AutoKiddobot()\n",
    "bot.start()"
   ]
  },
  {
   "cell_type": "code",
   "execution_count": 3,
   "metadata": {},
   "outputs": [
    {
     "name": "stdout",
     "output_type": "stream",
     "text": [
      "last pen position: 0 0\n",
      "x,y max range: 300 200\n"
     ]
    }
   ],
   "source": [
    "print('last pen position:', bot.x, bot.y)\n",
    "print('x,y max range:', bot.xmax, bot.ymax)"
   ]
  },
  {
   "cell_type": "markdown",
   "metadata": {},
   "source": [
    "### Functions check"
   ]
  },
  {
   "cell_type": "code",
   "execution_count": 4,
   "metadata": {},
   "outputs": [
    {
     "name": "stdout",
     "output_type": "stream",
     "text": [
      "current position:  -0.0013977374489400063 0.000356346027601262\n"
     ]
    }
   ],
   "source": [
    "x,y=bot.get_current_xy()\n",
    "print('current position: ', x,y)"
   ]
  },
  {
   "cell_type": "code",
   "execution_count": 5,
   "metadata": {},
   "outputs": [
    {
     "data": {
      "text/plain": [
       "True"
      ]
     },
     "execution_count": 5,
     "metadata": {},
     "output_type": "execute_result"
    }
   ],
   "source": [
    "bot.go_to_xy(0, 0)"
   ]
  },
  {
   "cell_type": "code",
   "execution_count": 6,
   "metadata": {},
   "outputs": [
    {
     "data": {
      "text/plain": [
       "True"
      ]
     },
     "execution_count": 6,
     "metadata": {},
     "output_type": "execute_result"
    }
   ],
   "source": [
    "bot.go_to_xy(100, 0)"
   ]
  },
  {
   "cell_type": "code",
   "execution_count": 7,
   "metadata": {},
   "outputs": [
    {
     "data": {
      "text/plain": [
       "True"
      ]
     },
     "execution_count": 7,
     "metadata": {},
     "output_type": "execute_result"
    }
   ],
   "source": [
    "bot.go_to_xy(200, 100)"
   ]
  },
  {
   "cell_type": "code",
   "execution_count": 8,
   "metadata": {},
   "outputs": [
    {
     "name": "stdout",
     "output_type": "stream",
     "text": [
      "pen down to do\n"
     ]
    }
   ],
   "source": [
    "bot.pen_down()"
   ]
  },
  {
   "cell_type": "code",
   "execution_count": 9,
   "metadata": {},
   "outputs": [
    {
     "name": "stdout",
     "output_type": "stream",
     "text": [
      "pen up to do\n"
     ]
    }
   ],
   "source": [
    "bot.pen_up()"
   ]
  },
  {
   "cell_type": "markdown",
   "metadata": {},
   "source": [
    "### Draw the workspace"
   ]
  },
  {
   "cell_type": "code",
   "execution_count": 10,
   "metadata": {},
   "outputs": [
    {
     "data": {
      "text/plain": [
       "True"
      ]
     },
     "execution_count": 10,
     "metadata": {},
     "output_type": "execute_result"
    }
   ],
   "source": [
    "bot.go_to_xy(0, 0)"
   ]
  },
  {
   "cell_type": "code",
   "execution_count": 11,
   "metadata": {},
   "outputs": [
    {
     "name": "stdout",
     "output_type": "stream",
     "text": [
      "pen down to do\n"
     ]
    }
   ],
   "source": [
    "bot.pen_down()"
   ]
  },
  {
   "cell_type": "code",
   "execution_count": 12,
   "metadata": {},
   "outputs": [],
   "source": [
    "#draw straight line from (0,0) to (xmax, 0) \n",
    "for ix in range(bot.xmax):\n",
    "    bot.go_to_xy(ix, 0)"
   ]
  },
  {
   "cell_type": "code",
   "execution_count": 13,
   "metadata": {},
   "outputs": [],
   "source": [
    "#draw straight line from (xmax,0) to (xmax, ymax) \n",
    "for iy in range(bot.ymax):\n",
    "    bot.go_to_xy(bot.x, iy)"
   ]
  },
  {
   "cell_type": "code",
   "execution_count": 14,
   "metadata": {},
   "outputs": [],
   "source": [
    "#draw straight line from (xmax,ymax) to (0, ymax) \n",
    "for ix in range(bot.xmax):\n",
    "    bot.go_to_xy(bot.xmax-ix, bot.y)"
   ]
  },
  {
   "cell_type": "code",
   "execution_count": 15,
   "metadata": {},
   "outputs": [],
   "source": [
    "#draw straight line from (0,ymax) to (0, 0)    \n",
    "for iy in range(bot.ymax):\n",
    "    bot.go_to_xy(bot.x, bot.ymax-iy)"
   ]
  },
  {
   "cell_type": "code",
   "execution_count": 16,
   "metadata": {},
   "outputs": [
    {
     "name": "stdout",
     "output_type": "stream",
     "text": [
      "pen up to do\n"
     ]
    }
   ],
   "source": [
    "bot.pen_up()"
   ]
  },
  {
   "cell_type": "code",
   "execution_count": null,
   "metadata": {},
   "outputs": [],
   "source": []
  },
  {
   "cell_type": "markdown",
   "metadata": {},
   "source": [
    "### Stopping simulation."
   ]
  },
  {
   "cell_type": "code",
   "execution_count": 37,
   "metadata": {},
   "outputs": [
    {
     "name": "stdout",
     "output_type": "stream",
     "text": [
      "connection closed...\n"
     ]
    }
   ],
   "source": [
    "bot.close()"
   ]
  },
  {
   "cell_type": "code",
   "execution_count": null,
   "metadata": {},
   "outputs": [],
   "source": []
  },
  {
   "cell_type": "code",
   "execution_count": null,
   "metadata": {},
   "outputs": [],
   "source": []
  },
  {
   "cell_type": "code",
   "execution_count": null,
   "metadata": {},
   "outputs": [],
   "source": []
  },
  {
   "cell_type": "code",
   "execution_count": null,
   "metadata": {},
   "outputs": [],
   "source": []
  },
  {
   "cell_type": "code",
   "execution_count": null,
   "metadata": {},
   "outputs": [],
   "source": []
  }
 ],
 "metadata": {
  "kernelspec": {
   "display_name": "Python 3",
   "language": "python",
   "name": "python3"
  },
  "language_info": {
   "codemirror_mode": {
    "name": "ipython",
    "version": 3
   },
   "file_extension": ".py",
   "mimetype": "text/x-python",
   "name": "python",
   "nbconvert_exporter": "python",
   "pygments_lexer": "ipython3",
   "version": "3.7.0"
  }
 },
 "nbformat": 4,
 "nbformat_minor": 2
}
