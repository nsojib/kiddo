{
 "cells": [
  {
   "cell_type": "code",
   "execution_count": 1,
   "metadata": {},
   "outputs": [],
   "source": [
    "import websocket\n",
    "try:\n",
    "    import thread\n",
    "except ImportError:\n",
    "    import _thread as thread\n",
    "import time\n",
    "import json"
   ]
  },
  {
   "cell_type": "code",
   "execution_count": 2,
   "metadata": {},
   "outputs": [],
   "source": [
    "ws = websocket.create_connection(\"ws://192.168.0.100:8000\")"
   ]
  },
  {
   "cell_type": "code",
   "execution_count": null,
   "metadata": {},
   "outputs": [],
   "source": []
  },
  {
   "cell_type": "code",
   "execution_count": 3,
   "metadata": {},
   "outputs": [
    {
     "name": "stdout",
     "output_type": "stream",
     "text": [
      "Sent= {\"data\": \"help\"}\n",
      "Received  {\"data\":\"json keys: type, data. type=tts,asr,test \\nTTS Server and ASR Server over websocket.\"}\n"
     ]
    }
   ],
   "source": [
    "data={'data':'help'}\n",
    "# data='anything'\n",
    "data = json.dumps(data)\n",
    "ws.send(data)\n",
    "print(\"Sent=\",data)\n",
    "result =  ws.recv()\n",
    "print('Received ',result)"
   ]
  },
  {
   "cell_type": "code",
   "execution_count": 6,
   "metadata": {},
   "outputs": [
    {
     "name": "stdout",
     "output_type": "stream",
     "text": [
      "Sent= {\"type\": \"tts\", \"data\": \"welcome robot. Can you Draw?\"}\n",
      "Receiving...\n",
      "Received  {\"data\":\"ToTTS=welcome robot. Can you Draw?\"}\n"
     ]
    }
   ],
   "source": [
    "data={'type':'tts', 'data':'welcome robot. Can you Draw?'}\n",
    "data = json.dumps(data)\n",
    "ws.send(data)\n",
    "print(\"Sent=\",data)\n",
    "print(\"Receiving...\")\n",
    "result =  ws.recv()\n",
    "print('Received ',result)"
   ]
  },
  {
   "cell_type": "code",
   "execution_count": 7,
   "metadata": {},
   "outputs": [
    {
     "name": "stdout",
     "output_type": "stream",
     "text": [
      "Sent= {\"type\": \"asr\"}\n",
      "Receiving...\n",
      "Received  {\"data\":\"tts_completed\"}\n"
     ]
    }
   ],
   "source": [
    "data={'type':'asr' }\n",
    "data = json.dumps(data)\n",
    "ws.send(data)\n",
    "print(\"Sent=\",data)\n",
    "print(\"Receiving...\")\n",
    "result =  ws.recv()\n",
    "print('Received ',result)"
   ]
  },
  {
   "cell_type": "code",
   "execution_count": 13,
   "metadata": {},
   "outputs": [
    {
     "name": "stdout",
     "output_type": "stream",
     "text": [
      "Sent= {\"type\": \"tts\", \"data\": \"\\u0986\\u09ae\\u09bf \\u09b0\\u09cb \\u09ac\\u099f. \"}\n",
      "Receiving...\n",
      "Received  {\"data\":\"tts_completed\"}\n"
     ]
    }
   ],
   "source": [
    "data={'type':'tts', 'data': u'আমি রো বট. '}\n",
    "data = json.dumps(data)\n",
    "ws.send(data)\n",
    "print(\"Sent=\",data)\n",
    "print(\"Receiving...\")\n",
    "result =  ws.recv()\n",
    "print('Received ',result)"
   ]
  },
  {
   "cell_type": "code",
   "execution_count": 11,
   "metadata": {},
   "outputs": [
    {
     "name": "stdout",
     "output_type": "stream",
     "text": [
      "Receiving...\n",
      "Received  {\"data\":\"তোমার\",\"datas\":\"[তোমার]\"}\n"
     ]
    }
   ],
   "source": [
    "print(\"Receiving...\")\n",
    "result =  ws.recv()\n",
    "print('Received ',result)"
   ]
  },
  {
   "cell_type": "code",
   "execution_count": 14,
   "metadata": {},
   "outputs": [],
   "source": [
    "ws.close()"
   ]
  },
  {
   "cell_type": "markdown",
   "metadata": {},
   "source": [
    "### Long conn"
   ]
  },
  {
   "cell_type": "code",
   "execution_count": 15,
   "metadata": {},
   "outputs": [],
   "source": [
    "def on_message(ws, message):\n",
    "    print(message)\n",
    "\n",
    "def on_error(ws, error):\n",
    "    print(error)\n",
    "\n",
    "def on_close(ws):\n",
    "    print(\"### closed ###\")\n",
    "\n",
    "def on_open(ws):\n",
    "    print('onopen')"
   ]
  },
  {
   "cell_type": "code",
   "execution_count": 16,
   "metadata": {},
   "outputs": [],
   "source": [
    "websocket.enableTrace(True)\n",
    "ws = websocket.WebSocketApp(\"ws://192.168.0.100:8000\",  on_message = on_message,  on_error = on_error, on_close = on_close)\n",
    "ws.on_open = on_open"
   ]
  },
  {
   "cell_type": "code",
   "execution_count": 17,
   "metadata": {},
   "outputs": [
    {
     "data": {
      "text/plain": [
       "11448"
      ]
     },
     "execution_count": 17,
     "metadata": {},
     "output_type": "execute_result"
    },
    {
     "name": "stderr",
     "output_type": "stream",
     "text": [
      "--- request header ---\n",
      "GET / HTTP/1.1\n",
      "Upgrade: websocket\n",
      "Host: 192.168.0.100:8000\n",
      "Origin: http://192.168.0.100:8000\n",
      "Sec-WebSocket-Key: O3AK4QbCbSx6Q/7TrBry1A==\n",
      "Sec-WebSocket-Version: 13\n",
      "Connection: upgrade\n",
      "\n",
      "\n",
      "-----------------------\n",
      "--- response header ---\n",
      "HTTP/1.1 101 Switching Protocols\n",
      "Connection: Upgrade\n",
      "Upgrade: websocket\n",
      "Sec-WebSocket-Accept: vSs5kQ5ytki6N9B1umx/a2dyD1o=\n",
      "-----------------------\n"
     ]
    },
    {
     "name": "stdout",
     "output_type": "stream",
     "text": [
      "onopen\n"
     ]
    }
   ],
   "source": [
    "def run(*args):\n",
    "        ws.run_forever()\n",
    "thread.start_new_thread(run, ())"
   ]
  },
  {
   "cell_type": "code",
   "execution_count": 19,
   "metadata": {},
   "outputs": [
    {
     "name": "stderr",
     "output_type": "stream",
     "text": [
      "send: b'\\x81\\x8f\\xbb\\xd6;\\xad\\xc0\\xf4O\\xd4\\xcb\\xb3\\x19\\x97\\x9b\\xf4Z\\xde\\xc9\\xf4F'\n"
     ]
    },
    {
     "name": "stdout",
     "output_type": "stream",
     "text": [
      "Sent= {\"type\": \"asr\"}\n",
      "{\"data\":\"ToASR=null\"}\n",
      "{\"data\":\"কি করো রোবট\",\"datas\":\"[কি করো রোবট, কি করে রোবট, কি করো রোবোট, কি করও রোবট]\"}\n"
     ]
    }
   ],
   "source": [
    "data={'type':'asr' }\n",
    "data = json.dumps(data)\n",
    "ws.send(data)\n",
    "print(\"Sent=\",data)"
   ]
  },
  {
   "cell_type": "code",
   "execution_count": 20,
   "metadata": {},
   "outputs": [
    {
     "name": "stderr",
     "output_type": "stream",
     "text": [
      "send: b'\\x81\\xc9\\x89\\xc0\\xb1\\xa2\\xf2\\xe2\\xc5\\xdb\\xf9\\xa5\\x93\\x98\\xa9\\xe2\\xc5\\xd6\\xfa\\xe2\\x9d\\x82\\xab\\xa4\\xd0\\xd6\\xe8\\xe2\\x8b\\x82\\xab\\x9c\\xc4\\x92\\xb0\\xf8\\x87\\xfe\\xfc\\xf0\\x88\\xc3\\xec\\x9c\\xc4\\x92\\xb0\\xa2\\xd7\\x82\\xd5\\xb5\\x81\\x9b\\xeb\\xf0\\xed\\xd7\\xb9\\xf9\\xd2\\xc0\\xa9\\x9c\\xc4\\x92\\xb0\\xa1\\xd2\\xfe\\xfc\\xf0\\x88\\x9b\\xef\\xee\\x91\\x80\\xf4'\n"
     ]
    },
    {
     "name": "stdout",
     "output_type": "stream",
     "text": [
      "Sent= {\"type\": \"tts\", \"data\": \"\\u0986\\u09ae\\u09bf \\u09b0\\u09cb \\u09ac\\u099f. \"}\n",
      "{\"data\":\"ToTTS=আমি রো বট. \"}\n",
      "{\"data\":\"tts_completed\"}\n"
     ]
    }
   ],
   "source": [
    "data={'type':'tts', 'data': u'আমি রো বট. '}\n",
    "data = json.dumps(data)\n",
    "ws.send(data)\n",
    "print(\"Sent=\",data)"
   ]
  },
  {
   "cell_type": "code",
   "execution_count": 25,
   "metadata": {},
   "outputs": [
    {
     "name": "stderr",
     "output_type": "stream",
     "text": [
      "send: b'\\x81\\xb7oh\\x91\\xef\\x14J\\xe5\\x96\\x1f\\r\\xb3\\xd5OJ\\xe5\\x9b\\x1cJ\\xbd\\xcfM\\x0c\\xf0\\x9b\\x0eJ\\xab\\xcfMH\\xcd\\x9a_Q\\xf3\\xd7O4\\xe4\\xdfV\\n\\xa1\\xb3\\x1aX\\xa8\\x8cXH\\xcd\\x9a_Q\\xa9\\xdaOJ\\xec'\n"
     ]
    },
    {
     "name": "stdout",
     "output_type": "stream",
     "text": [
      "Sent= {\"type\": \"tts\", \"data\": \" \\u09b8 \\u09b0\\u09c7 \\u0985 \"}\n",
      "{\"data\":\"ToTTS= স রে অ \"}\n",
      "{\"data\":\"tts_completed\"}\n"
     ]
    },
    {
     "name": "stderr",
     "output_type": "stream",
     "text": [
      "send: b'\\x88\\x82]\"\\x04\\xb8^\\xca'\n"
     ]
    },
    {
     "name": "stdout",
     "output_type": "stream",
     "text": [
      "[WinError 10054] An existing connection was forcibly closed by the remote host\n",
      "### closed ###\n"
     ]
    }
   ],
   "source": [
    "data={'type':'tts', 'data': u' স রে অ '}\n",
    "data = json.dumps(data)\n",
    "ws.send(data)\n",
    "print(\"Sent=\",data)"
   ]
  },
  {
   "cell_type": "code",
   "execution_count": null,
   "metadata": {},
   "outputs": [],
   "source": []
  }
 ],
 "metadata": {
  "kernelspec": {
   "display_name": "Python 3",
   "language": "python",
   "name": "python3"
  },
  "language_info": {
   "codemirror_mode": {
    "name": "ipython",
    "version": 3
   },
   "file_extension": ".py",
   "mimetype": "text/x-python",
   "name": "python",
   "nbconvert_exporter": "python",
   "pygments_lexer": "ipython3",
   "version": "3.7.0"
  }
 },
 "nbformat": 4,
 "nbformat_minor": 2
}
